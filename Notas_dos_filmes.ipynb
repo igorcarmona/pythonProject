{
  "cells": [
    {
      "cell_type": "markdown",
      "metadata": {
        "id": "view-in-github",
        "colab_type": "text"
      },
      "source": [
        "<a href=\"https://colab.research.google.com/github/igorcarmona/pythonProject/blob/master/Notas_dos_filmes.ipynb\" target=\"_parent\"><img src=\"https://colab.research.google.com/assets/colab-badge.svg\" alt=\"Open In Colab\"/></a>"
      ]
    },
    {
      "cell_type": "markdown",
      "source": [
        "# Notas em geral"
      ],
      "metadata": {
        "id": "gy9PgEGCqbTC"
      }
    },
    {
      "cell_type": "code",
      "source": [
        "import pandas as pd\n",
        "import seaborn as sns\n",
        "import matplotlib.pyplot as plt\n",
        "pd.options.display.float_format = '{:.2f}'.format"
      ],
      "metadata": {
        "id": "KwD02DacjDeT"
      },
      "execution_count": null,
      "outputs": []
    },
    {
      "cell_type": "code",
      "source": [
        "notas = pd.read_csv('ratings.csv')"
      ],
      "metadata": {
        "id": "kHgE3YspeVJu"
      },
      "execution_count": null,
      "outputs": []
    },
    {
      "cell_type": "code",
      "execution_count": null,
      "metadata": {
        "id": "7iDjQta1xPBB"
      },
      "outputs": [],
      "source": [
        "notas.columns = [\"usuarioId\", \"filmeId\", \"nota\", \"tempo\"]"
      ]
    },
    {
      "cell_type": "code",
      "source": [
        "notas.shape"
      ],
      "metadata": {
        "colab": {
          "base_uri": "https://localhost:8080/"
        },
        "id": "0iuGxb6O8ajq",
        "outputId": "c787a905-8dbc-4da2-929d-838f3bb952da"
      },
      "execution_count": null,
      "outputs": [
        {
          "output_type": "execute_result",
          "data": {
            "text/plain": [
              "(100836, 4)"
            ]
          },
          "metadata": {},
          "execution_count": 4
        }
      ]
    },
    {
      "cell_type": "code",
      "execution_count": null,
      "metadata": {
        "colab": {
          "base_uri": "https://localhost:8080/"
        },
        "id": "tu68H1iXxLlR",
        "outputId": "34788953-48cf-467e-f268-60843947d620"
      },
      "outputs": [
        {
          "output_type": "execute_result",
          "data": {
            "text/plain": [
              "   usuarioId  filmeId  nota      tempo\n",
              "0          1        1  4.00  964982703\n",
              "1          1        3  4.00  964981247\n",
              "2          1        6  4.00  964982224\n",
              "3          1       47  5.00  964983815\n",
              "4          1       50  5.00  964982931"
            ],
            "text/html": [
              "\n",
              "  <div id=\"df-612020b7-28f0-4b84-9a7b-28a1ae602f05\">\n",
              "    <div class=\"colab-df-container\">\n",
              "      <div>\n",
              "<style scoped>\n",
              "    .dataframe tbody tr th:only-of-type {\n",
              "        vertical-align: middle;\n",
              "    }\n",
              "\n",
              "    .dataframe tbody tr th {\n",
              "        vertical-align: top;\n",
              "    }\n",
              "\n",
              "    .dataframe thead th {\n",
              "        text-align: right;\n",
              "    }\n",
              "</style>\n",
              "<table border=\"1\" class=\"dataframe\">\n",
              "  <thead>\n",
              "    <tr style=\"text-align: right;\">\n",
              "      <th></th>\n",
              "      <th>usuarioId</th>\n",
              "      <th>filmeId</th>\n",
              "      <th>nota</th>\n",
              "      <th>tempo</th>\n",
              "    </tr>\n",
              "  </thead>\n",
              "  <tbody>\n",
              "    <tr>\n",
              "      <th>0</th>\n",
              "      <td>1</td>\n",
              "      <td>1</td>\n",
              "      <td>4.00</td>\n",
              "      <td>964982703</td>\n",
              "    </tr>\n",
              "    <tr>\n",
              "      <th>1</th>\n",
              "      <td>1</td>\n",
              "      <td>3</td>\n",
              "      <td>4.00</td>\n",
              "      <td>964981247</td>\n",
              "    </tr>\n",
              "    <tr>\n",
              "      <th>2</th>\n",
              "      <td>1</td>\n",
              "      <td>6</td>\n",
              "      <td>4.00</td>\n",
              "      <td>964982224</td>\n",
              "    </tr>\n",
              "    <tr>\n",
              "      <th>3</th>\n",
              "      <td>1</td>\n",
              "      <td>47</td>\n",
              "      <td>5.00</td>\n",
              "      <td>964983815</td>\n",
              "    </tr>\n",
              "    <tr>\n",
              "      <th>4</th>\n",
              "      <td>1</td>\n",
              "      <td>50</td>\n",
              "      <td>5.00</td>\n",
              "      <td>964982931</td>\n",
              "    </tr>\n",
              "  </tbody>\n",
              "</table>\n",
              "</div>\n",
              "      <button class=\"colab-df-convert\" onclick=\"convertToInteractive('df-612020b7-28f0-4b84-9a7b-28a1ae602f05')\"\n",
              "              title=\"Convert this dataframe to an interactive table.\"\n",
              "              style=\"display:none;\">\n",
              "        \n",
              "  <svg xmlns=\"http://www.w3.org/2000/svg\" height=\"24px\"viewBox=\"0 0 24 24\"\n",
              "       width=\"24px\">\n",
              "    <path d=\"M0 0h24v24H0V0z\" fill=\"none\"/>\n",
              "    <path d=\"M18.56 5.44l.94 2.06.94-2.06 2.06-.94-2.06-.94-.94-2.06-.94 2.06-2.06.94zm-11 1L8.5 8.5l.94-2.06 2.06-.94-2.06-.94L8.5 2.5l-.94 2.06-2.06.94zm10 10l.94 2.06.94-2.06 2.06-.94-2.06-.94-.94-2.06-.94 2.06-2.06.94z\"/><path d=\"M17.41 7.96l-1.37-1.37c-.4-.4-.92-.59-1.43-.59-.52 0-1.04.2-1.43.59L10.3 9.45l-7.72 7.72c-.78.78-.78 2.05 0 2.83L4 21.41c.39.39.9.59 1.41.59.51 0 1.02-.2 1.41-.59l7.78-7.78 2.81-2.81c.8-.78.8-2.07 0-2.86zM5.41 20L4 18.59l7.72-7.72 1.47 1.35L5.41 20z\"/>\n",
              "  </svg>\n",
              "      </button>\n",
              "      \n",
              "  <style>\n",
              "    .colab-df-container {\n",
              "      display:flex;\n",
              "      flex-wrap:wrap;\n",
              "      gap: 12px;\n",
              "    }\n",
              "\n",
              "    .colab-df-convert {\n",
              "      background-color: #E8F0FE;\n",
              "      border: none;\n",
              "      border-radius: 50%;\n",
              "      cursor: pointer;\n",
              "      display: none;\n",
              "      fill: #1967D2;\n",
              "      height: 32px;\n",
              "      padding: 0 0 0 0;\n",
              "      width: 32px;\n",
              "    }\n",
              "\n",
              "    .colab-df-convert:hover {\n",
              "      background-color: #E2EBFA;\n",
              "      box-shadow: 0px 1px 2px rgba(60, 64, 67, 0.3), 0px 1px 3px 1px rgba(60, 64, 67, 0.15);\n",
              "      fill: #174EA6;\n",
              "    }\n",
              "\n",
              "    [theme=dark] .colab-df-convert {\n",
              "      background-color: #3B4455;\n",
              "      fill: #D2E3FC;\n",
              "    }\n",
              "\n",
              "    [theme=dark] .colab-df-convert:hover {\n",
              "      background-color: #434B5C;\n",
              "      box-shadow: 0px 1px 3px 1px rgba(0, 0, 0, 0.15);\n",
              "      filter: drop-shadow(0px 1px 2px rgba(0, 0, 0, 0.3));\n",
              "      fill: #FFFFFF;\n",
              "    }\n",
              "  </style>\n",
              "\n",
              "      <script>\n",
              "        const buttonEl =\n",
              "          document.querySelector('#df-612020b7-28f0-4b84-9a7b-28a1ae602f05 button.colab-df-convert');\n",
              "        buttonEl.style.display =\n",
              "          google.colab.kernel.accessAllowed ? 'block' : 'none';\n",
              "\n",
              "        async function convertToInteractive(key) {\n",
              "          const element = document.querySelector('#df-612020b7-28f0-4b84-9a7b-28a1ae602f05');\n",
              "          const dataTable =\n",
              "            await google.colab.kernel.invokeFunction('convertToInteractive',\n",
              "                                                     [key], {});\n",
              "          if (!dataTable) return;\n",
              "\n",
              "          const docLinkHtml = 'Like what you see? Visit the ' +\n",
              "            '<a target=\"_blank\" href=https://colab.research.google.com/notebooks/data_table.ipynb>data table notebook</a>'\n",
              "            + ' to learn more about interactive tables.';\n",
              "          element.innerHTML = '';\n",
              "          dataTable['output_type'] = 'display_data';\n",
              "          await google.colab.output.renderOutput(dataTable, element);\n",
              "          const docLink = document.createElement('div');\n",
              "          docLink.innerHTML = docLinkHtml;\n",
              "          element.appendChild(docLink);\n",
              "        }\n",
              "      </script>\n",
              "    </div>\n",
              "  </div>\n",
              "  "
            ]
          },
          "metadata": {},
          "execution_count": 5
        }
      ],
      "source": [
        "notas.head()"
      ]
    },
    {
      "cell_type": "code",
      "execution_count": null,
      "metadata": {
        "colab": {
          "base_uri": "https://localhost:8080/"
        },
        "id": "GAlq5mRWxO91",
        "outputId": "9d1be4d2-5522-4051-a83f-d3f284525872"
      },
      "outputs": [
        {
          "output_type": "execute_result",
          "data": {
            "text/plain": [
              "array([4. , 5. , 3. , 2. , 1. , 4.5, 3.5, 2.5, 0.5, 1.5])"
            ]
          },
          "metadata": {},
          "execution_count": 6
        }
      ],
      "source": [
        "notas.nota.unique()\n"
      ]
    },
    {
      "cell_type": "code",
      "execution_count": null,
      "metadata": {
        "colab": {
          "base_uri": "https://localhost:8080/"
        },
        "id": "FwbF0Kq5xPEj",
        "outputId": "3334a4dd-d3de-4208-e094-4edcf4eb757f"
      },
      "outputs": [
        {
          "output_type": "execute_result",
          "data": {
            "text/plain": [
              "4.00    26818\n",
              "3.00    20047\n",
              "5.00    13211\n",
              "3.50    13136\n",
              "4.50     8551\n",
              "2.00     7551\n",
              "2.50     5550\n",
              "1.00     2811\n",
              "1.50     1791\n",
              "0.50     1370\n",
              "Name: nota, dtype: int64"
            ]
          },
          "metadata": {},
          "execution_count": 7
        }
      ],
      "source": [
        "notas.nota.value_counts()"
      ]
    },
    {
      "cell_type": "code",
      "execution_count": null,
      "metadata": {
        "id": "xQaNqQVIrePz",
        "colab": {
          "base_uri": "https://localhost:8080/"
        },
        "outputId": "da7d4d9a-7449-4d9b-e140-f7a6014e2140"
      },
      "outputs": [
        {
          "output_type": "execute_result",
          "data": {
            "text/plain": [
              "<Axes: ylabel='Frequency'>"
            ]
          },
          "metadata": {},
          "execution_count": 8
        },
        {
          "output_type": "display_data",
          "data": {
            "text/plain": [
              "<Figure size 640x480 with 1 Axes>"
            ],
            "image/png": "[encoded data removed]"
          },
          "metadata": {}
        }
      ],
      "source": [
        "notas.nota.plot(kind='hist')"
      ]
    },
    {
      "cell_type": "code",
      "source": [
        "notas.nota.describe()"
      ],
      "metadata": {
        "colab": {
          "base_uri": "https://localhost:8080/"
        },
        "id": "6t4lcDoFi5fe",
        "outputId": "8b7d8c45-27bd-4d43-e068-d1c96be52236"
      },
      "execution_count": null,
      "outputs": [
        {
          "output_type": "execute_result",
          "data": {
            "text/plain": [
              "count   100836.00\n",
              "mean         3.50\n",
              "std          1.04\n",
              "min          0.50\n",
              "25%          3.00\n",
              "50%          3.50\n",
              "75%          4.00\n",
              "max          5.00\n",
              "Name: nota, dtype: float64"
            ]
          },
          "metadata": {},
          "execution_count": 9
        }
      ]
    },
    {
      "cell_type": "code",
      "source": [
        "sns.boxplot(notas.nota)"
      ],
      "metadata": {
        "colab": {
          "base_uri": "https://localhost:8080/"
        },
        "id": "FGJKWwYRjDPT",
        "outputId": "3eda6226-4a41-4d25-e1f8-79e8957f111f"
      },
      "execution_count": null,
      "outputs": [
        {
          "output_type": "execute_result",
          "data": {
            "text/plain": [
              "<Axes: >"
            ]
          },
          "metadata": {},
          "execution_count": 10
        },
        {
          "output_type": "display_data",
          "data": {
            "text/plain": [
              "<Figure size 640x480 with 1 Axes>"
            ],
            "image/png": "[encoded data removed]"
          },
          "metadata": {}
        }
      ]
    },
    {
      "cell_type": "markdown",
      "source": [
        "# Analisando os Filmes"
      ],
      "metadata": {
        "id": "a3vezCITqiMR"
      }
    },
    {
      "cell_type": "code",
      "source": [
        "filmes = pd.read_csv('movies.csv')"
      ],
      "metadata": {
        "id": "tQW0HRFEfhP_"
      },
      "execution_count": null,
      "outputs": []
    },
    {
      "cell_type": "code",
      "source": [
        "filmes.columns = ['filmeId', 'titulo', 'genero']"
      ],
      "metadata": {
        "id": "06UHWmbugBnw"
      },
      "execution_count": null,
      "outputs": []
    },
    {
      "cell_type": "code",
      "source": [
        "filmes.shape"
      ],
      "metadata": {
        "colab": {
          "base_uri": "https://localhost:8080/"
        },
        "id": "VdCvMPwigDvu",
        "outputId": "8c594955-edc3-44ec-f235-6ae05aa0ba76"
      },
      "execution_count": null,
      "outputs": [
        {
          "output_type": "execute_result",
          "data": {
            "text/plain": [
              "(9742, 3)"
            ]
          },
          "metadata": {},
          "execution_count": 13
        }
      ]
    },
    {
      "cell_type": "code",
      "source": [
        "filmes.head()"
      ],
      "metadata": {
        "colab": {
          "base_uri": "https://localhost:8080/"
        },
        "id": "QQecsVGZ8lsJ",
        "outputId": "071f512e-68c1-4b56-f5eb-fa96829798ae"
      },
      "execution_count": null,
      "outputs": [
        {
          "output_type": "execute_result",
          "data": {
            "text/plain": [
              "   filmeId                              titulo  \\\n",
              "0        1                    Toy Story (1995)   \n",
              "1        2                      Jumanji (1995)   \n",
              "2        3             Grumpier Old Men (1995)   \n",
              "3        4            Waiting to Exhale (1995)   \n",
              "4        5  Father of the Bride Part II (1995)   \n",
              "\n",
              "                                        genero  \n",
              "0  Adventure|Animation|Children|Comedy|Fantasy  \n",
              "1                   Adventure|Children|Fantasy  \n",
              "2                               Comedy|Romance  \n",
              "3                         Comedy|Drama|Romance  \n",
              "4                                       Comedy  "
            ],
            "text/html": [
              "\n",
              "  <div id=\"df-79fca73f-1b26-4555-8e41-77f06ad20c97\">\n",
              "    <div class=\"colab-df-container\">\n",
              "      <div>\n",
              "<style scoped>\n",
              "    .dataframe tbody tr th:only-of-type {\n",
              "        vertical-align: middle;\n",
              "    }\n",
              "\n",
              "    .dataframe tbody tr th {\n",
              "        vertical-align: top;\n",
              "    }\n",
              "\n",
              "    .dataframe thead th {\n",
              "        text-align: right;\n",
              "    }\n",
              "</style>\n",
              "<table border=\"1\" class=\"dataframe\">\n",
              "  <thead>\n",
              "    <tr style=\"text-align: right;\">\n",
              "      <th></th>\n",
              "      <th>filmeId</th>\n",
              "      <th>titulo</th>\n",
              "      <th>genero</th>\n",
              "    </tr>\n",
              "  </thead>\n",
              "  <tbody>\n",
              "    <tr>\n",
              "      <th>0</th>\n",
              "      <td>1</td>\n",
              "      <td>Toy Story (1995)</td>\n",
              "      <td>Adventure|Animation|Children|Comedy|Fantasy</td>\n",
              "    </tr>\n",
              "    <tr>\n",
              "      <th>1</th>\n",
              "      <td>2</td>\n",
              "      <td>Jumanji (1995)</td>\n",
              "      <td>Adventure|Children|Fantasy</td>\n",
              "    </tr>\n",
              "    <tr>\n",
              "      <th>2</th>\n",
              "      <td>3</td>\n",
              "      <td>Grumpier Old Men (1995)</td>\n",
              "      <td>Comedy|Romance</td>\n",
              "    </tr>\n",
              "    <tr>\n",
              "      <th>3</th>\n",
              "      <td>4</td>\n",
              "      <td>Waiting to Exhale (1995)</td>\n",
              "      <td>Comedy|Drama|Romance</td>\n",
              "    </tr>\n",
              "    <tr>\n",
              "      <th>4</th>\n",
              "      <td>5</td>\n",
              "      <td>Father of the Bride Part II (1995)</td>\n",
              "      <td>Comedy</td>\n",
              "    </tr>\n",
              "  </tbody>\n",
              "</table>\n",
              "</div>\n",
              "      <button class=\"colab-df-convert\" onclick=\"convertToInteractive('df-79fca73f-1b26-4555-8e41-77f06ad20c97')\"\n",
              "              title=\"Convert this dataframe to an interactive table.\"\n",
              "              style=\"display:none;\">\n",
              "        \n",
              "  <svg xmlns=\"http://www.w3.org/2000/svg\" height=\"24px\"viewBox=\"0 0 24 24\"\n",
              "       width=\"24px\">\n",
              "    <path d=\"M0 0h24v24H0V0z\" fill=\"none\"/>\n",
              "    <path d=\"M18.56 5.44l.94 2.06.94-2.06 2.06-.94-2.06-.94-.94-2.06-.94 2.06-2.06.94zm-11 1L8.5 8.5l.94-2.06 2.06-.94-2.06-.94L8.5 2.5l-.94 2.06-2.06.94zm10 10l.94 2.06.94-2.06 2.06-.94-2.06-.94-.94-2.06-.94 2.06-2.06.94z\"/><path d=\"M17.41 7.96l-1.37-1.37c-.4-.4-.92-.59-1.43-.59-.52 0-1.04.2-1.43.59L10.3 9.45l-7.72 7.72c-.78.78-.78 2.05 0 2.83L4 21.41c.39.39.9.59 1.41.59.51 0 1.02-.2 1.41-.59l7.78-7.78 2.81-2.81c.8-.78.8-2.07 0-2.86zM5.41 20L4 18.59l7.72-7.72 1.47 1.35L5.41 20z\"/>\n",
              "  </svg>\n",
              "      </button>\n",
              "      \n",
              "  <style>\n",
              "    .colab-df-container {\n",
              "      display:flex;\n",
              "      flex-wrap:wrap;\n",
              "      gap: 12px;\n",
              "    }\n",
              "\n",
              "    .colab-df-convert {\n",
              "      background-color: #E8F0FE;\n",
              "      border: none;\n",
              "      border-radius: 50%;\n",
              "      cursor: pointer;\n",
              "      display: none;\n",
              "      fill: #1967D2;\n",
              "      height: 32px;\n",
              "      padding: 0 0 0 0;\n",
              "      width: 32px;\n",
              "    }\n",
              "\n",
              "    .colab-df-convert:hover {\n",
              "      background-color: #E2EBFA;\n",
              "      box-shadow: 0px 1px 2px rgba(60, 64, 67, 0.3), 0px 1px 3px 1px rgba(60, 64, 67, 0.15);\n",
              "      fill: #174EA6;\n",
              "    }\n",
              "\n",
              "    [theme=dark] .colab-df-convert {\n",
              "      background-color: #3B4455;\n",
              "      fill: #D2E3FC;\n",
              "    }\n",
              "\n",
              "    [theme=dark] .colab-df-convert:hover {\n",
              "      background-color: #434B5C;\n",
              "      box-shadow: 0px 1px 3px 1px rgba(0, 0, 0, 0.15);\n",
              "      filter: drop-shadow(0px 1px 2px rgba(0, 0, 0, 0.3));\n",
              "      fill: #FFFFFF;\n",
              "    }\n",
              "  </style>\n",
              "\n",
              "      <script>\n",
              "        const buttonEl =\n",
              "          document.querySelector('#df-79fca73f-1b26-4555-8e41-77f06ad20c97 button.colab-df-convert');\n",
              "        buttonEl.style.display =\n",
              "          google.colab.kernel.accessAllowed ? 'block' : 'none';\n",
              "\n",
              "        async function convertToInteractive(key) {\n",
              "          const element = document.querySelector('#df-79fca73f-1b26-4555-8e41-77f06ad20c97');\n",
              "          const dataTable =\n",
              "            await google.colab.kernel.invokeFunction('convertToInteractive',\n",
              "                                                     [key], {});\n",
              "          if (!dataTable) return;\n",
              "\n",
              "          const docLinkHtml = 'Like what you see? Visit the ' +\n",
              "            '<a target=\"_blank\" href=https://colab.research.google.com/notebooks/data_table.ipynb>data table notebook</a>'\n",
              "            + ' to learn more about interactive tables.';\n",
              "          element.innerHTML = '';\n",
              "          dataTable['output_type'] = 'display_data';\n",
              "          await google.colab.output.renderOutput(dataTable, element);\n",
              "          const docLink = document.createElement('div');\n",
              "          docLink.innerHTML = docLinkHtml;\n",
              "          element.appendChild(docLink);\n",
              "        }\n",
              "      </script>\n",
              "    </div>\n",
              "  </div>\n",
              "  "
            ]
          },
          "metadata": {},
          "execution_count": 14
        }
      ]
    },
    {
      "cell_type": "markdown",
      "source": [
        "# Analisando Usuario"
      ],
      "metadata": {
        "id": "b59Rb1oABlTy"
      }
    },
    {
      "cell_type": "code",
      "source": [
        "notas.groupby('usuarioId').nota.mean() # Calcular a média das notas dadas de cada usuário"
      ],
      "metadata": {
        "id": "3vva5j7BBlGC",
        "colab": {
          "base_uri": "https://localhost:8080/"
        },
        "outputId": "3ef06844-137b-4f42-94f4-dfdfd4bac5c3"
      },
      "execution_count": null,
      "outputs": [
        {
          "output_type": "execute_result",
          "data": {
            "text/plain": [
              "usuarioId\n",
              "1     4.37\n",
              "2     3.95\n",
              "3     2.44\n",
              "4     3.56\n",
              "5     3.64\n",
              "      ... \n",
              "606   3.66\n",
              "607   3.79\n",
              "608   3.13\n",
              "609   3.27\n",
              "610   3.69\n",
              "Name: nota, Length: 610, dtype: float64"
            ]
          },
          "metadata": {},
          "execution_count": 15
        }
      ]
    },
    {
      "cell_type": "code",
      "source": [
        "media_por_usuario = dict(notas.groupby('usuarioId').nota.mean())\n",
        "media_por_usuario # Dict com as médias de notas dada por cada usuário"
      ],
      "metadata": {
        "id": "bEAWQMCqBk25",
        "colab": {
          "base_uri": "https://localhost:8080/"
        },
        "outputId": "805f92a1-362d-46bd-a5b8-dae619b60f9f"
      },
      "execution_count": null,
      "outputs": [
        {
          "output_type": "execute_result",
          "data": {
            "text/plain": [
              "{1: 4.366379310344827,\n",
              " 2: 3.9482758620689653,\n",
              " 3: 2.4358974358974357,\n",
              " 4: 3.5555555555555554,\n",
              " 5: 3.6363636363636362,\n",
              " 6: 3.4936305732484074,\n",
              " 7: 3.2302631578947367,\n",
              " 8: 3.574468085106383,\n",
              " 9: 3.260869565217391,\n",
              " 10: 3.2785714285714285,\n",
              " 11: 3.78125,\n",
              " 12: 4.390625,\n",
              " 13: 3.6451612903225805,\n",
              " 14: 3.3958333333333335,\n",
              " 15: 3.448148148148148,\n",
              " 16: 3.7244897959183674,\n",
              " 17: 4.20952380952381,\n",
              " 18: 3.7320717131474104,\n",
              " 19: 2.607396870554765,\n",
              " 20: 3.590909090909091,\n",
              " 21: 3.260722347629797,\n",
              " 22: 2.5714285714285716,\n",
              " 23: 3.6487603305785123,\n",
              " 24: 3.65,\n",
              " 25: 4.8076923076923075,\n",
              " 26: 3.238095238095238,\n",
              " 27: 3.5481481481481483,\n",
              " 28: 3.020175438596491,\n",
              " 29: 4.1419753086419755,\n",
              " 30: 4.735294117647059,\n",
              " 31: 3.92,\n",
              " 32: 3.7549019607843137,\n",
              " 33: 3.7884615384615383,\n",
              " 34: 3.4186046511627906,\n",
              " 35: 4.086956521739131,\n",
              " 36: 2.6333333333333333,\n",
              " 37: 4.142857142857143,\n",
              " 38: 3.217948717948718,\n",
              " 39: 4.0,\n",
              " 40: 3.766990291262136,\n",
              " 41: 3.2534562211981566,\n",
              " 42: 3.565909090909091,\n",
              " 43: 4.552631578947368,\n",
              " 44: 3.3541666666666665,\n",
              " 45: 3.8759398496240602,\n",
              " 46: 4.0,\n",
              " 47: 3.0535714285714284,\n",
              " 48: 4.03030303030303,\n",
              " 49: 4.261904761904762,\n",
              " 50: 2.7806451612903227,\n",
              " 51: 3.7757660167130918,\n",
              " 52: 4.476923076923077,\n",
              " 53: 5.0,\n",
              " 54: 3.0303030303030303,\n",
              " 55: 2.84,\n",
              " 56: 3.8043478260869565,\n",
              " 57: 3.392857142857143,\n",
              " 58: 3.9017857142857144,\n",
              " 59: 4.355140186915888,\n",
              " 60: 3.727272727272727,\n",
              " 61: 4.051282051282051,\n",
              " 62: 4.081967213114754,\n",
              " 63: 3.6309963099630997,\n",
              " 64: 3.7688588007736943,\n",
              " 65: 4.029411764705882,\n",
              " 66: 4.0202898550724635,\n",
              " 67: 3.9722222222222223,\n",
              " 68: 3.233730158730159,\n",
              " 69: 4.369565217391305,\n",
              " 70: 4.32258064516129,\n",
              " 71: 3.6,\n",
              " 72: 4.155555555555556,\n",
              " 73: 3.711904761904762,\n",
              " 74: 4.271186440677966,\n",
              " 75: 3.2318840579710146,\n",
              " 76: 3.0840336134453783,\n",
              " 77: 4.0,\n",
              " 78: 3.1639344262295084,\n",
              " 79: 4.203125,\n",
              " 80: 4.2604790419161676,\n",
              " 81: 2.769230769230769,\n",
              " 82: 3.381057268722467,\n",
              " 83: 3.309322033898305,\n",
              " 84: 3.689419795221843,\n",
              " 85: 3.7058823529411766,\n",
              " 86: 3.9285714285714284,\n",
              " 87: 3.9523809523809526,\n",
              " 88: 4.035714285714286,\n",
              " 89: 3.472972972972973,\n",
              " 90: 4.074074074074074,\n",
              " 91: 3.3956521739130436,\n",
              " 92: 3.9375,\n",
              " 93: 4.288659793814433,\n",
              " 94: 3.0357142857142856,\n",
              " 95: 4.0625,\n",
              " 96: 3.8846153846153846,\n",
              " 97: 4.194444444444445,\n",
              " 98: 3.9130434782608696,\n",
              " 99: 3.8679245283018866,\n",
              " 100: 3.945945945945946,\n",
              " 101: 3.557377049180328,\n",
              " 102: 3.357142857142857,\n",
              " 103: 3.907161803713528,\n",
              " 104: 3.5073260073260073,\n",
              " 105: 4.116343490304709,\n",
              " 106: 4.4393939393939394,\n",
              " 107: 3.911764705882353,\n",
              " 108: 3.986842105263158,\n",
              " 109: 3.220472440944882,\n",
              " 110: 3.7254901960784315,\n",
              " 111: 3.3397832817337463,\n",
              " 112: 3.5923076923076924,\n",
              " 113: 3.6466666666666665,\n",
              " 114: 3.435483870967742,\n",
              " 115: 3.767857142857143,\n",
              " 116: 3.4367816091954024,\n",
              " 117: 3.3393939393939394,\n",
              " 118: 3.8181818181818183,\n",
              " 119: 4.176744186046512,\n",
              " 120: 3.409090909090909,\n",
              " 121: 3.293103448275862,\n",
              " 122: 4.546232876712328,\n",
              " 123: 4.035714285714286,\n",
              " 124: 3.99,\n",
              " 125: 3.859722222222222,\n",
              " 126: 3.289473684210526,\n",
              " 127: 3.1136363636363638,\n",
              " 128: 4.363636363636363,\n",
              " 129: 3.9214285714285713,\n",
              " 130: 3.5357142857142856,\n",
              " 131: 3.4420289855072466,\n",
              " 132: 3.0389048991354466,\n",
              " 133: 3.0,\n",
              " 134: 3.5714285714285716,\n",
              " 135: 3.630824372759857,\n",
              " 136: 3.315315315315315,\n",
              " 137: 3.978723404255319,\n",
              " 138: 3.522727272727273,\n",
              " 139: 2.1443298969072164,\n",
              " 140: 3.4991776315789473,\n",
              " 141: 3.5386904761904763,\n",
              " 142: 3.8157894736842106,\n",
              " 143: 3.323943661971831,\n",
              " 144: 3.62890625,\n",
              " 145: 3.347826086956522,\n",
              " 146: 3.140625,\n",
              " 147: 3.375,\n",
              " 148: 3.7395833333333335,\n",
              " 149: 2.7241379310344827,\n",
              " 150: 3.576923076923077,\n",
              " 151: 3.542372881355932,\n",
              " 152: 4.023809523809524,\n",
              " 153: 2.217877094972067,\n",
              " 154: 4.382352941176471,\n",
              " 155: 3.608695652173913,\n",
              " 156: 3.692211055276382,\n",
              " 157: 3.4761904761904763,\n",
              " 158: 3.423076923076923,\n",
              " 159: 3.2731958762886597,\n",
              " 160: 2.708237986270023,\n",
              " 161: 3.8333333333333335,\n",
              " 162: 4.2368421052631575,\n",
              " 163: 3.0,\n",
              " 164: 4.25,\n",
              " 165: 3.5384615384615383,\n",
              " 166: 4.073684210526316,\n",
              " 167: 3.439306358381503,\n",
              " 168: 4.462765957446808,\n",
              " 169: 4.24907063197026,\n",
              " 170: 3.34,\n",
              " 171: 4.634146341463414,\n",
              " 172: 3.826923076923077,\n",
              " 173: 3.48,\n",
              " 174: 3.656716417910448,\n",
              " 175: 3.5416666666666665,\n",
              " 176: 4.055555555555555,\n",
              " 177: 3.375553097345133,\n",
              " 178: 4.090909090909091,\n",
              " 179: 3.782608695652174,\n",
              " 180: 3.5625,\n",
              " 181: 2.940677966101695,\n",
              " 182: 3.5112589559877176,\n",
              " 183: 3.824561403508772,\n",
              " 184: 3.705223880597015,\n",
              " 185: 3.5319148936170213,\n",
              " 186: 4.079646017699115,\n",
              " 187: 3.7751937984496124,\n",
              " 188: 4.395833333333333,\n",
              " 189: 4.1,\n",
              " 190: 3.909090909090909,\n",
              " 191: 3.7411764705882353,\n",
              " 192: 4.045454545454546,\n",
              " 193: 3.8,\n",
              " 194: 3.475,\n",
              " 195: 3.5294117647058822,\n",
              " 196: 3.9375,\n",
              " 197: 3.857142857142857,\n",
              " 198: 3.491304347826087,\n",
              " 199: 3.3953168044077136,\n",
              " 200: 3.809880239520958,\n",
              " 201: 4.1,\n",
              " 202: 3.8188585607940446,\n",
              " 203: 3.8444444444444446,\n",
              " 204: 3.9578313253012047,\n",
              " 205: 3.8703703703703702,\n",
              " 206: 4.04,\n",
              " 207: 2.875,\n",
              " 208: 3.3076923076923075,\n",
              " 209: 4.242857142857143,\n",
              " 210: 4.079710144927536,\n",
              " 211: 3.904494382022472,\n",
              " 212: 3.590725806451613,\n",
              " 213: 3.8273809523809526,\n",
              " 214: 2.8636363636363638,\n",
              " 215: 3.9081632653061225,\n",
              " 216: 3.6646341463414633,\n",
              " 217: 2.761827079934747,\n",
              " 218: 3.3653846153846154,\n",
              " 219: 3.165719696969697,\n",
              " 220: 3.963768115942029,\n",
              " 221: 4.126888217522659,\n",
              " 222: 3.166,\n",
              " 223: 3.2733333333333334,\n",
              " 224: 4.2592592592592595,\n",
              " 225: 3.6533333333333333,\n",
              " 226: 3.4763313609467454,\n",
              " 227: 4.202127659574468,\n",
              " 228: 3.74,\n",
              " 229: 3.7384615384615385,\n",
              " 230: 2.8597122302158273,\n",
              " 231: 3.8541666666666665,\n",
              " 232: 3.2505800464037122,\n",
              " 233: 3.3,\n",
              " 234: 3.504950495049505,\n",
              " 235: 3.646153846153846,\n",
              " 236: 3.966666666666667,\n",
              " 237: 3.36,\n",
              " 238: 3.6818181818181817,\n",
              " 239: 4.026881720430108,\n",
              " 240: 3.9140625,\n",
              " 241: 3.9802631578947367,\n",
              " 242: 3.6,\n",
              " 243: 4.138888888888889,\n",
              " 244: 3.774193548387097,\n",
              " 245: 2.7142857142857144,\n",
              " 246: 4.252450980392157,\n",
              " 247: 3.7466666666666666,\n",
              " 248: 3.7450980392156863,\n",
              " 249: 3.6964627151051626,\n",
              " 250: 4.222222222222222,\n",
              " 251: 4.869565217391305,\n",
              " 252: 4.197368421052632,\n",
              " 253: 4.351063829787234,\n",
              " 254: 3.9803149606299213,\n",
              " 255: 2.5681818181818183,\n",
              " 256: 3.9454022988505746,\n",
              " 257: 3.2,\n",
              " 258: 4.2,\n",
              " 259: 3.1206896551724137,\n",
              " 260: 3.7598684210526314,\n",
              " 261: 3.858490566037736,\n",
              " 262: 3.1052631578947367,\n",
              " 263: 3.716666666666667,\n",
              " 264: 3.5625,\n",
              " 265: 3.3496932515337425,\n",
              " 266: 3.5,\n",
              " 267: 4.175438596491228,\n",
              " 268: 3.2713178294573644,\n",
              " 269: 3.6206896551724137,\n",
              " 270: 3.2,\n",
              " 271: 3.186046511627907,\n",
              " 272: 3.629032258064516,\n",
              " 273: 4.0,\n",
              " 274: 3.235884101040119,\n",
              " 275: 4.086848635235732,\n",
              " 276: 4.390243902439025,\n",
              " 277: 3.5714285714285716,\n",
              " 278: 3.875,\n",
              " 279: 3.647727272727273,\n",
              " 280: 3.9005102040816326,\n",
              " 281: 3.2142857142857144,\n",
              " 282: 4.033755274261603,\n",
              " 283: 3.3142857142857145,\n",
              " 284: 3.715909090909091,\n",
              " 285: 3.9583333333333335,\n",
              " 286: 3.7877358490566038,\n",
              " 287: 2.6217105263157894,\n",
              " 288: 3.1459715639810426,\n",
              " 289: 3.625,\n",
              " 290: 4.142322097378277,\n",
              " 291: 4.258064516129032,\n",
              " 292: 3.3015695067264574,\n",
              " 293: 2.619047619047619,\n",
              " 294: 2.610983981693364,\n",
              " 295: 3.7439024390243905,\n",
              " 296: 4.166666666666667,\n",
              " 297: 2.5972222222222223,\n",
              " 298: 2.363684771033014,\n",
              " 299: 3.652173913043478,\n",
              " 300: 4.296875,\n",
              " 301: 3.3201754385964914,\n",
              " 302: 4.0,\n",
              " 303: 3.9056603773584904,\n",
              " 304: 3.8703703703703702,\n",
              " 305: 3.9246676514032495,\n",
              " 306: 3.3169642857142856,\n",
              " 307: 2.6656410256410257,\n",
              " 308: 2.4260869565217393,\n",
              " 309: 3.8398058252427183,\n",
              " 310: 3.53125,\n",
              " 311: 2.3392857142857144,\n",
              " 312: 3.708520179372197,\n",
              " 313: 3.4323529411764704,\n",
              " 314: 3.046875,\n",
              " 315: 3.3636363636363638,\n",
              " 316: 3.0,\n",
              " 317: 3.7301587301587302,\n",
              " 318: 3.755972696245734,\n",
              " 319: 4.428571428571429,\n",
              " 320: 3.525,\n",
              " 321: 3.5714285714285716,\n",
              " 322: 3.411214953271028,\n",
              " 323: 3.173469387755102,\n",
              " 324: 3.142857142857143,\n",
              " 325: 3.5444444444444443,\n",
              " 326: 4.016447368421052,\n",
              " 327: 4.104166666666667,\n",
              " 328: 3.2254901960784315,\n",
              " 329: 2.869565217391304,\n",
              " 330: 3.6902834008097165,\n",
              " 331: 3.6279761904761907,\n",
              " 332: 3.599250936329588,\n",
              " 333: 2.64,\n",
              " 334: 3.418831168831169,\n",
              " 335: 3.6785714285714284,\n",
              " 336: 4.321428571428571,\n",
              " 337: 4.207792207792208,\n",
              " 338: 2.9358974358974357,\n",
              " 339: 4.070080862533692,\n",
              " 340: 4.214285714285714,\n",
              " 341: 3.798076923076923,\n",
              " 342: 2.9393939393939394,\n",
              " 343: 4.059322033898305,\n",
              " 344: 3.7681159420289854,\n",
              " 345: 3.903225806451613,\n",
              " 346: 3.682926829268293,\n",
              " 347: 3.5555555555555554,\n",
              " 348: 4.672727272727273,\n",
              " 349: 3.72972972972973,\n",
              " 350: 3.25,\n",
              " 351: 3.6666666666666665,\n",
              " 352: 3.7806122448979593,\n",
              " 353: 3.488888888888889,\n",
              " 354: 3.734513274336283,\n",
              " 355: 3.8846153846153846,\n",
              " 356: 4.02076124567474,\n",
              " 357: 3.9569190600522193,\n",
              " 358: 3.2560975609756095,\n",
              " 359: 3.418918918918919,\n",
              " 360: 3.36,\n",
              " 361: 3.1804123711340204,\n",
              " 362: 4.243119266055046,\n",
              " 363: 3.3,\n",
              " 364: 4.190476190476191,\n",
              " 365: 2.7509025270758123,\n",
              " 366: 3.9516129032258065,\n",
              " 367: 3.8594594594594596,\n",
              " 368: 2.8422174840085286,\n",
              " 369: 3.391472868217054,\n",
              " 370: 3.5483870967741935,\n",
              " 371: 4.548780487804878,\n",
              " 372: 3.3559322033898304,\n",
              " 373: 3.19,\n",
              " 374: 3.6363636363636362,\n",
              " 375: 3.909090909090909,\n",
              " 376: 4.06390977443609,\n",
              " 377: 3.9122137404580153,\n",
              " 378: 4.0,\n",
              " 379: 3.388888888888889,\n",
              " 380: 3.6732348111658455,\n",
              " 381: 3.542194092827004,\n",
              " 382: 3.508591065292096,\n",
              " 383: 3.7941176470588234,\n",
              " 384: 3.085714285714286,\n",
              " 385: 3.4029850746268657,\n",
              " 386: 2.75,\n",
              " 387: 3.2585199610516065,\n",
              " 388: 3.6206896551724137,\n",
              " 389: 4.117647058823529,\n",
              " 390: 3.8395061728395063,\n",
              " 391: 3.715025906735751,\n",
              " 392: 3.2,\n",
              " 393: 3.841463414634146,\n",
              " 394: 2.9565217391304346,\n",
              " 395: 3.0491803278688523,\n",
              " 396: 3.142857142857143,\n",
              " 397: 3.9565217391304346,\n",
              " 398: 4.25,\n",
              " 399: 3.9444444444444446,\n",
              " 400: 4.511627906976744,\n",
              " 401: 3.5277777777777777,\n",
              " 402: 3.8541666666666665,\n",
              " 403: 3.764705882352941,\n",
              " 404: 3.4,\n",
              " 405: 4.008333333333334,\n",
              " 406: 3.25,\n",
              " 407: 4.113636363636363,\n",
              " 408: 4.092198581560283,\n",
              " 409: 3.8412698412698414,\n",
              " 410: 4.059880239520958,\n",
              " 411: 3.2598425196850394,\n",
              " 412: 3.892156862745098,\n",
              " 413: 4.410714285714286,\n",
              " 414: 3.391957005189029,\n",
              " 415: 4.085106382978723,\n",
              " 416: 3.0686274509803924,\n",
              " 417: 4.462686567164179,\n",
              " 418: 3.639784946236559,\n",
              " 419: 3.803225806451613,\n",
              " 420: 3.8226950354609928,\n",
              " 421: 4.108108108108108,\n",
              " 422: 3.3225806451612905,\n",
              " 423: 3.717391304347826,\n",
              " 424: 3.6739130434782608,\n",
              " 425: 3.5326797385620914,\n",
              " 426: 3.6818181818181817,\n",
              " 427: 3.1011904761904763,\n",
              " 428: 2.64,\n",
              " 429: 3.9827586206896552,\n",
              " 430: 3.7413793103448274,\n",
              " 431: 2.725,\n",
              " 432: 3.646153846153846,\n",
              " 433: 3.772727272727273,\n",
              " 434: 3.781115879828326,\n",
              " 435: 4.321428571428571,\n",
              " 436: 3.1792452830188678,\n",
              " 437: 3.80327868852459,\n",
              " 438: 3.3551181102362206,\n",
              " 439: 4.119047619047619,\n",
              " 440: 3.893939393939394,\n",
              " 441: 4.522222222222222,\n",
              " 442: 1.275,\n",
              " 443: 4.121621621621622,\n",
              " 444: 3.8095238095238093,\n",
              " 445: 3.857142857142857,\n",
              " 446: 3.2142857142857144,\n",
              " 447: 3.871794871794872,\n",
              " 448: 2.8473712446351933,\n",
              " 449: 3.289473684210526,\n",
              " 450: 4.0,\n",
              " 451: 3.7941176470588234,\n",
              " 452: 4.556930693069307,\n",
              " 453: 3.942122186495177,\n",
              " 454: 3.7666666666666666,\n",
              " 455: 3.456140350877193,\n",
              " 456: 3.813953488372093,\n",
              " 457: 3.46,\n",
              " 458: 4.1525423728813555,\n",
              " 459: 4.346153846153846,\n",
              " 460: 4.201219512195122,\n",
              " 461: 2.9444444444444446,\n",
              " 462: 3.4065934065934065,\n",
              " 463: 3.787878787878788,\n",
              " 464: 3.753623188405797,\n",
              " 465: 4.156521739130435,\n",
              " 466: 3.9292035398230087,\n",
              " 467: 3.409090909090909,\n",
              " 468: 3.393939393939394,\n",
              " 469: 3.6731182795698927,\n",
              " 470: 3.5125,\n",
              " 471: 3.875,\n",
              " 472: 4.120689655172414,\n",
              " 473: 3.418918918918919,\n",
              " 474: 3.398956356736243,\n",
              " 475: 4.409677419354839,\n",
              " 476: 3.681159420289855,\n",
              " 477: 3.736666666666667,\n",
              " 478: 2.8181818181818183,\n",
              " 479: 3.320441988950276,\n",
              " 480: 3.27511961722488,\n",
              " 481: 2.806451612903226,\n",
              " 482: 3.40625,\n",
              " 483: 3.618818681318681,\n",
              " 484: 3.8145454545454545,\n",
              " 485: 3.869565217391304,\n",
              " 486: 4.017857142857143,\n",
              " 487: 3.142857142857143,\n",
              " 488: 3.8828828828828827,\n",
              " 489: 3.017746913580247,\n",
              " 490: 3.15929203539823,\n",
              " 491: 4.15625,\n",
              " 492: 3.8677685950413223,\n",
              " 493: 3.6885245901639343,\n",
              " 494: 4.2272727272727275,\n",
              " 495: 4.009433962264151,\n",
              " 496: 3.413793103448276,\n",
              " 497: 3.5686274509803924,\n",
              " 498: 4.057142857142857,\n",
              " 499: 3.8333333333333335,\n",
              " 500: 3.244186046511628,\n",
              " 501: 3.2,\n",
              " 502: 3.4285714285714284,\n",
              " 503: 3.3421052631578947,\n",
              " 504: 3.82183908045977,\n",
              " 505: 4.17741935483871,\n",
              " 506: 3.261904761904762,\n",
              " 507: 3.380952380952381,\n",
              " 508: 2.1458333333333335,\n",
              " 509: 3.21627408993576,\n",
              " 510: 2.9027777777777777,\n",
              " 511: 4.125,\n",
              " 512: 3.78,\n",
              " 513: 3.890625,\n",
              " 514: 3.3110831234256928,\n",
              " 515: 4.846153846153846,\n",
              " 516: 3.6923076923076925,\n",
              " 517: 2.38625,\n",
              " 518: 3.5416666666666665,\n",
              " 519: 4.326923076923077,\n",
              " 520: 3.881720430107527,\n",
              " 521: 3.6,\n",
              " 522: 3.83,\n",
              " 523: 4.693333333333333,\n",
              " 524: 3.4580152671755724,\n",
              " 525: 3.542,\n",
              " 526: 4.189655172413793,\n",
              " 527: 4.119760479041916,\n",
              " 528: 3.4726027397260273,\n",
              " 529: 3.2,\n",
              " 530: 3.7777777777777777,\n",
              " 531: 3.772727272727273,\n",
              " 532: 4.28,\n",
              " 533: 4.381578947368421,\n",
              " 534: 3.8048076923076923,\n",
              " 535: 2.6666666666666665,\n",
              " 536: 3.4,\n",
              " 537: 4.0638297872340425,\n",
              " 538: 4.472972972972973,\n",
              " 539: 3.8026315789473686,\n",
              " 540: 4.0,\n",
              " 541: 3.3908045977011496,\n",
              " 542: 3.5088495575221237,\n",
              " 543: 4.453947368421052,\n",
              " 544: 4.363636363636363,\n",
              " 545: 3.369565217391304,\n",
              " 546: 3.4375,\n",
              " 547: 4.142857142857143,\n",
              " 548: 4.096153846153846,\n",
              " 549: 3.6666666666666665,\n",
              " 550: 4.107142857142857,\n",
              " 551: 3.7154471544715446,\n",
              " 552: 3.11968085106383,\n",
              " 553: 4.337349397590361,\n",
              " 554: 4.0,\n",
              " 555: 3.4550173010380623,\n",
              " 556: 4.078125,\n",
              " 557: 3.8518518518518516,\n",
              " 558: 3.9285714285714284,\n",
              " 559: 3.2857142857142856,\n",
              " 560: 3.567685589519651,\n",
              " 561: 3.372277227722772,\n",
              " 562: 4.093073593073593,\n",
              " 563: 3.300469483568075,\n",
              " 564: 3.5796178343949046,\n",
              " 565: 3.6551724137931036,\n",
              " 566: 3.5405405405405403,\n",
              " 567: 2.2454545454545456,\n",
              " 568: 4.130434782608695,\n",
              " 569: 4.0,\n",
              " 570: 3.4162303664921465,\n",
              " 571: 2.5714285714285716,\n",
              " 572: 4.122580645161291,\n",
              " 573: 4.212374581939799,\n",
              " 574: 3.9565217391304346,\n",
              " 575: 3.1666666666666665,\n",
              " 576: 3.1,\n",
              " 577: 3.5652173913043477,\n",
              " 578: 3.962962962962963,\n",
              " 579: 3.9726027397260273,\n",
              " 580: 3.529816513761468,\n",
              " 581: 4.375,\n",
              " 582: 4.026785714285714,\n",
              " 583: 3.294642857142857,\n",
              " 584: 4.108433734939759,\n",
              " 585: 4.336065573770492,\n",
              " 586: 4.365384615384615,\n",
              " 587: 3.9757575757575756,\n",
              " 588: 3.25,\n",
              " 589: 4.025,\n",
              " 590: 3.355769230769231,\n",
              " 591: 3.2777777777777777,\n",
              " 592: 3.5851063829787235,\n",
              " 593: 3.266990291262136,\n",
              " 594: 3.9245689655172415,\n",
              " 595: 4.2,\n",
              " 596: 3.495133819951338,\n",
              " 597: 3.9774266365688487,\n",
              " 598: 3.8095238095238093,\n",
              " 599: 2.6420500403551253,\n",
              " 600: 2.991480996068152,\n",
              " 601: 4.425742574257426,\n",
              " 602: 3.3925925925925924,\n",
              " 603: 3.5079533404029695,\n",
              " 604: 3.48,\n",
              " 605: 3.2104072398190047,\n",
              " 606: 3.6573991031390136,\n",
              " 607: 3.786096256684492,\n",
              " 608: 3.1341756919374246,\n",
              " 609: 3.27027027027027,\n",
              " 610: 3.6885560675883258}"
            ]
          },
          "metadata": {},
          "execution_count": 16
        }
      ]
    },
    {
      "cell_type": "code",
      "source": [
        "df_media_por_usuario = pd.DataFrame(media_por_usuario, index=['media']).T # Agora em dataframe"
      ],
      "metadata": {
        "id": "jJX_9oBLBkzx"
      },
      "execution_count": null,
      "outputs": []
    },
    {
      "cell_type": "code",
      "source": [
        "def rigidez(x): \n",
        "  df_media_por_usuario['rigidez'] = 'maleável'\n",
        "  df_media_por_usuario.loc[df_media_por_usuario['media'].astype(int) <= 3.5, 'rigidez'] = 'rigido'\n",
        "\n",
        "  return df_media_por_usuario"
      ],
      "metadata": {
        "id": "x1kjaphmySpN"
      },
      "execution_count": null,
      "outputs": []
    },
    {
      "cell_type": "code",
      "source": [
        "rigidez(df_media_por_usuario)"
      ],
      "metadata": {
        "id": "ohPcktaCySd_",
        "colab": {
          "base_uri": "https://localhost:8080/"
        },
        "outputId": "c825f026-d5ef-4554-ea78-77e0f3a9196e"
      },
      "execution_count": null,
      "outputs": [
        {
          "output_type": "execute_result",
          "data": {
            "text/plain": [
              "     media   rigidez\n",
              "1     4.37  maleável\n",
              "2     3.95    rigido\n",
              "3     2.44    rigido\n",
              "4     3.56    rigido\n",
              "5     3.64    rigido\n",
              "..     ...       ...\n",
              "606   3.66    rigido\n",
              "607   3.79    rigido\n",
              "608   3.13    rigido\n",
              "609   3.27    rigido\n",
              "610   3.69    rigido\n",
              "\n",
              "[610 rows x 2 columns]"
            ],
            "text/html": [
              "\n",
              "  <div id=\"df-cd12cc50-477b-419e-8026-d1b6075e7f43\">\n",
              "    <div class=\"colab-df-container\">\n",
              "      <div>\n",
              "<style scoped>\n",
              "    .dataframe tbody tr th:only-of-type {\n",
              "        vertical-align: middle;\n",
              "    }\n",
              "\n",
              "    .dataframe tbody tr th {\n",
              "        vertical-align: top;\n",
              "    }\n",
              "\n",
              "    .dataframe thead th {\n",
              "        text-align: right;\n",
              "    }\n",
              "</style>\n",
              "<table border=\"1\" class=\"dataframe\">\n",
              "  <thead>\n",
              "    <tr style=\"text-align: right;\">\n",
              "      <th></th>\n",
              "      <th>media</th>\n",
              "      <th>rigidez</th>\n",
              "    </tr>\n",
              "  </thead>\n",
              "  <tbody>\n",
              "    <tr>\n",
              "      <th>1</th>\n",
              "      <td>4.37</td>\n",
              "      <td>maleável</td>\n",
              "    </tr>\n",
              "    <tr>\n",
              "      <th>2</th>\n",
              "      <td>3.95</td>\n",
              "      <td>rigido</td>\n",
              "    </tr>\n",
              "    <tr>\n",
              "      <th>3</th>\n",
              "      <td>2.44</td>\n",
              "      <td>rigido</td>\n",
              "    </tr>\n",
              "    <tr>\n",
              "      <th>4</th>\n",
              "      <td>3.56</td>\n",
              "      <td>rigido</td>\n",
              "    </tr>\n",
              "    <tr>\n",
              "      <th>5</th>\n",
              "      <td>3.64</td>\n",
              "      <td>rigido</td>\n",
              "    </tr>\n",
              "    <tr>\n",
              "      <th>...</th>\n",
              "      <td>...</td>\n",
              "      <td>...</td>\n",
              "    </tr>\n",
              "    <tr>\n",
              "      <th>606</th>\n",
              "      <td>3.66</td>\n",
              "      <td>rigido</td>\n",
              "    </tr>\n",
              "    <tr>\n",
              "      <th>607</th>\n",
              "      <td>3.79</td>\n",
              "      <td>rigido</td>\n",
              "    </tr>\n",
              "    <tr>\n",
              "      <th>608</th>\n",
              "      <td>3.13</td>\n",
              "      <td>rigido</td>\n",
              "    </tr>\n",
              "    <tr>\n",
              "      <th>609</th>\n",
              "      <td>3.27</td>\n",
              "      <td>rigido</td>\n",
              "    </tr>\n",
              "    <tr>\n",
              "      <th>610</th>\n",
              "      <td>3.69</td>\n",
              "      <td>rigido</td>\n",
              "    </tr>\n",
              "  </tbody>\n",
              "</table>\n",
              "<p>610 rows × 2 columns</p>\n",
              "</div>\n",
              "      <button class=\"colab-df-convert\" onclick=\"convertToInteractive('df-cd12cc50-477b-419e-8026-d1b6075e7f43')\"\n",
              "              title=\"Convert this dataframe to an interactive table.\"\n",
              "              style=\"display:none;\">\n",
              "        \n",
              "  <svg xmlns=\"http://www.w3.org/2000/svg\" height=\"24px\"viewBox=\"0 0 24 24\"\n",
              "       width=\"24px\">\n",
              "    <path d=\"M0 0h24v24H0V0z\" fill=\"none\"/>\n",
              "    <path d=\"M18.56 5.44l.94 2.06.94-2.06 2.06-.94-2.06-.94-.94-2.06-.94 2.06-2.06.94zm-11 1L8.5 8.5l.94-2.06 2.06-.94-2.06-.94L8.5 2.5l-.94 2.06-2.06.94zm10 10l.94 2.06.94-2.06 2.06-.94-2.06-.94-.94-2.06-.94 2.06-2.06.94z\"/><path d=\"M17.41 7.96l-1.37-1.37c-.4-.4-.92-.59-1.43-.59-.52 0-1.04.2-1.43.59L10.3 9.45l-7.72 7.72c-.78.78-.78 2.05 0 2.83L4 21.41c.39.39.9.59 1.41.59.51 0 1.02-.2 1.41-.59l7.78-7.78 2.81-2.81c.8-.78.8-2.07 0-2.86zM5.41 20L4 18.59l7.72-7.72 1.47 1.35L5.41 20z\"/>\n",
              "  </svg>\n",
              "      </button>\n",
              "      \n",
              "  <style>\n",
              "    .colab-df-container {\n",
              "      display:flex;\n",
              "      flex-wrap:wrap;\n",
              "      gap: 12px;\n",
              "    }\n",
              "\n",
              "    .colab-df-convert {\n",
              "      background-color: #E8F0FE;\n",
              "      border: none;\n",
              "      border-radius: 50%;\n",
              "      cursor: pointer;\n",
              "      display: none;\n",
              "      fill: #1967D2;\n",
              "      height: 32px;\n",
              "      padding: 0 0 0 0;\n",
              "      width: 32px;\n",
              "    }\n",
              "\n",
              "    .colab-df-convert:hover {\n",
              "      background-color: #E2EBFA;\n",
              "      box-shadow: 0px 1px 2px rgba(60, 64, 67, 0.3), 0px 1px 3px 1px rgba(60, 64, 67, 0.15);\n",
              "      fill: #174EA6;\n",
              "    }\n",
              "\n",
              "    [theme=dark] .colab-df-convert {\n",
              "      background-color: #3B4455;\n",
              "      fill: #D2E3FC;\n",
              "    }\n",
              "\n",
              "    [theme=dark] .colab-df-convert:hover {\n",
              "      background-color: #434B5C;\n",
              "      box-shadow: 0px 1px 3px 1px rgba(0, 0, 0, 0.15);\n",
              "      filter: drop-shadow(0px 1px 2px rgba(0, 0, 0, 0.3));\n",
              "      fill: #FFFFFF;\n",
              "    }\n",
              "  </style>\n",
              "\n",
              "      <script>\n",
              "        const buttonEl =\n",
              "          document.querySelector('#df-cd12cc50-477b-419e-8026-d1b6075e7f43 button.colab-df-convert');\n",
              "        buttonEl.style.display =\n",
              "          google.colab.kernel.accessAllowed ? 'block' : 'none';\n",
              "\n",
              "        async function convertToInteractive(key) {\n",
              "          const element = document.querySelector('#df-cd12cc50-477b-419e-8026-d1b6075e7f43');\n",
              "          const dataTable =\n",
              "            await google.colab.kernel.invokeFunction('convertToInteractive',\n",
              "                                                     [key], {});\n",
              "          if (!dataTable) return;\n",
              "\n",
              "          const docLinkHtml = 'Like what you see? Visit the ' +\n",
              "            '<a target=\"_blank\" href=https://colab.research.google.com/notebooks/data_table.ipynb>data table notebook</a>'\n",
              "            + ' to learn more about interactive tables.';\n",
              "          element.innerHTML = '';\n",
              "          dataTable['output_type'] = 'display_data';\n",
              "          await google.colab.output.renderOutput(dataTable, element);\n",
              "          const docLink = document.createElement('div');\n",
              "          docLink.innerHTML = docLinkHtml;\n",
              "          element.appendChild(docLink);\n",
              "        }\n",
              "      </script>\n",
              "    </div>\n",
              "  </div>\n",
              "  "
            ]
          },
          "metadata": {},
          "execution_count": 19
        }
      ]
    },
    {
      "cell_type": "code",
      "source": [
        "df_media_por_usuario.query('rigidez == \"maleável\"') # Usuários não tão rígidos em relações ao filmes"
      ],
      "metadata": {
        "id": "QWu43KeOBkg6",
        "colab": {
          "base_uri": "https://localhost:8080/"
        },
        "outputId": "7da05351-6563-4d04-9719-5d2be8978edd"
      },
      "execution_count": null,
      "outputs": [
        {
          "output_type": "execute_result",
          "data": {
            "text/plain": [
              "     media   rigidez\n",
              "1     4.37  maleável\n",
              "12    4.39  maleável\n",
              "17    4.21  maleável\n",
              "25    4.81  maleável\n",
              "29    4.14  maleável\n",
              "..     ...       ...\n",
              "585   4.34  maleável\n",
              "586   4.37  maleável\n",
              "589   4.03  maleável\n",
              "595   4.20  maleável\n",
              "601   4.43  maleável\n",
              "\n",
              "[153 rows x 2 columns]"
            ],
            "text/html": [
              "\n",
              "  <div id=\"df-473717e2-50eb-4858-9331-d1a66dc95e4e\">\n",
              "    <div class=\"colab-df-container\">\n",
              "      <div>\n",
              "<style scoped>\n",
              "    .dataframe tbody tr th:only-of-type {\n",
              "        vertical-align: middle;\n",
              "    }\n",
              "\n",
              "    .dataframe tbody tr th {\n",
              "        vertical-align: top;\n",
              "    }\n",
              "\n",
              "    .dataframe thead th {\n",
              "        text-align: right;\n",
              "    }\n",
              "</style>\n",
              "<table border=\"1\" class=\"dataframe\">\n",
              "  <thead>\n",
              "    <tr style=\"text-align: right;\">\n",
              "      <th></th>\n",
              "      <th>media</th>\n",
              "      <th>rigidez</th>\n",
              "    </tr>\n",
              "  </thead>\n",
              "  <tbody>\n",
              "    <tr>\n",
              "      <th>1</th>\n",
              "      <td>4.37</td>\n",
              "      <td>maleável</td>\n",
              "    </tr>\n",
              "    <tr>\n",
              "      <th>12</th>\n",
              "      <td>4.39</td>\n",
              "      <td>maleável</td>\n",
              "    </tr>\n",
              "    <tr>\n",
              "      <th>17</th>\n",
              "      <td>4.21</td>\n",
              "      <td>maleável</td>\n",
              "    </tr>\n",
              "    <tr>\n",
              "      <th>25</th>\n",
              "      <td>4.81</td>\n",
              "      <td>maleável</td>\n",
              "    </tr>\n",
              "    <tr>\n",
              "      <th>29</th>\n",
              "      <td>4.14</td>\n",
              "      <td>maleável</td>\n",
              "    </tr>\n",
              "    <tr>\n",
              "      <th>...</th>\n",
              "      <td>...</td>\n",
              "      <td>...</td>\n",
              "    </tr>\n",
              "    <tr>\n",
              "      <th>585</th>\n",
              "      <td>4.34</td>\n",
              "      <td>maleável</td>\n",
              "    </tr>\n",
              "    <tr>\n",
              "      <th>586</th>\n",
              "      <td>4.37</td>\n",
              "      <td>maleável</td>\n",
              "    </tr>\n",
              "    <tr>\n",
              "      <th>589</th>\n",
              "      <td>4.03</td>\n",
              "      <td>maleável</td>\n",
              "    </tr>\n",
              "    <tr>\n",
              "      <th>595</th>\n",
              "      <td>4.20</td>\n",
              "      <td>maleável</td>\n",
              "    </tr>\n",
              "    <tr>\n",
              "      <th>601</th>\n",
              "      <td>4.43</td>\n",
              "      <td>maleável</td>\n",
              "    </tr>\n",
              "  </tbody>\n",
              "</table>\n",
              "<p>153 rows × 2 columns</p>\n",
              "</div>\n",
              "      <button class=\"colab-df-convert\" onclick=\"convertToInteractive('df-473717e2-50eb-4858-9331-d1a66dc95e4e')\"\n",
              "              title=\"Convert this dataframe to an interactive table.\"\n",
              "              style=\"display:none;\">\n",
              "        \n",
              "  <svg xmlns=\"http://www.w3.org/2000/svg\" height=\"24px\"viewBox=\"0 0 24 24\"\n",
              "       width=\"24px\">\n",
              "    <path d=\"M0 0h24v24H0V0z\" fill=\"none\"/>\n",
              "    <path d=\"M18.56 5.44l.94 2.06.94-2.06 2.06-.94-2.06-.94-.94-2.06-.94 2.06-2.06.94zm-11 1L8.5 8.5l.94-2.06 2.06-.94-2.06-.94L8.5 2.5l-.94 2.06-2.06.94zm10 10l.94 2.06.94-2.06 2.06-.94-2.06-.94-.94-2.06-.94 2.06-2.06.94z\"/><path d=\"M17.41 7.96l-1.37-1.37c-.4-.4-.92-.59-1.43-.59-.52 0-1.04.2-1.43.59L10.3 9.45l-7.72 7.72c-.78.78-.78 2.05 0 2.83L4 21.41c.39.39.9.59 1.41.59.51 0 1.02-.2 1.41-.59l7.78-7.78 2.81-2.81c.8-.78.8-2.07 0-2.86zM5.41 20L4 18.59l7.72-7.72 1.47 1.35L5.41 20z\"/>\n",
              "  </svg>\n",
              "      </button>\n",
              "      \n",
              "  <style>\n",
              "    .colab-df-container {\n",
              "      display:flex;\n",
              "      flex-wrap:wrap;\n",
              "      gap: 12px;\n",
              "    }\n",
              "\n",
              "    .colab-df-convert {\n",
              "      background-color: #E8F0FE;\n",
              "      border: none;\n",
              "      border-radius: 50%;\n",
              "      cursor: pointer;\n",
              "      display: none;\n",
              "      fill: #1967D2;\n",
              "      height: 32px;\n",
              "      padding: 0 0 0 0;\n",
              "      width: 32px;\n",
              "    }\n",
              "\n",
              "    .colab-df-convert:hover {\n",
              "      background-color: #E2EBFA;\n",
              "      box-shadow: 0px 1px 2px rgba(60, 64, 67, 0.3), 0px 1px 3px 1px rgba(60, 64, 67, 0.15);\n",
              "      fill: #174EA6;\n",
              "    }\n",
              "\n",
              "    [theme=dark] .colab-df-convert {\n",
              "      background-color: #3B4455;\n",
              "      fill: #D2E3FC;\n",
              "    }\n",
              "\n",
              "    [theme=dark] .colab-df-convert:hover {\n",
              "      background-color: #434B5C;\n",
              "      box-shadow: 0px 1px 3px 1px rgba(0, 0, 0, 0.15);\n",
              "      filter: drop-shadow(0px 1px 2px rgba(0, 0, 0, 0.3));\n",
              "      fill: #FFFFFF;\n",
              "    }\n",
              "  </style>\n",
              "\n",
              "      <script>\n",
              "        const buttonEl =\n",
              "          document.querySelector('#df-473717e2-50eb-4858-9331-d1a66dc95e4e button.colab-df-convert');\n",
              "        buttonEl.style.display =\n",
              "          google.colab.kernel.accessAllowed ? 'block' : 'none';\n",
              "\n",
              "        async function convertToInteractive(key) {\n",
              "          const element = document.querySelector('#df-473717e2-50eb-4858-9331-d1a66dc95e4e');\n",
              "          const dataTable =\n",
              "            await google.colab.kernel.invokeFunction('convertToInteractive',\n",
              "                                                     [key], {});\n",
              "          if (!dataTable) return;\n",
              "\n",
              "          const docLinkHtml = 'Like what you see? Visit the ' +\n",
              "            '<a target=\"_blank\" href=https://colab.research.google.com/notebooks/data_table.ipynb>data table notebook</a>'\n",
              "            + ' to learn more about interactive tables.';\n",
              "          element.innerHTML = '';\n",
              "          dataTable['output_type'] = 'display_data';\n",
              "          await google.colab.output.renderOutput(dataTable, element);\n",
              "          const docLink = document.createElement('div');\n",
              "          docLink.innerHTML = docLinkHtml;\n",
              "          element.appendChild(docLink);\n",
              "        }\n",
              "      </script>\n",
              "    </div>\n",
              "  </div>\n",
              "  "
            ]
          },
          "metadata": {},
          "execution_count": 20
        }
      ]
    },
    {
      "cell_type": "code",
      "source": [],
      "metadata": {
        "id": "q9CGIIO5ySus"
      },
      "execution_count": null,
      "outputs": []
    },
    {
      "cell_type": "markdown",
      "source": [
        "# Algumas notas específicas"
      ],
      "metadata": {
        "id": "i1J8Fg54tHor"
      }
    },
    {
      "cell_type": "code",
      "source": [
        "notas.query('filmeId==1').nota.mean() "
      ],
      "metadata": {
        "colab": {
          "base_uri": "https://localhost:8080/"
        },
        "id": "5iaLs4iPgORe",
        "outputId": "57764f7b-45b7-43be-95a0-5ad759f65d79"
      },
      "execution_count": null,
      "outputs": [
        {
          "output_type": "execute_result",
          "data": {
            "text/plain": [
              "3.9209302325581397"
            ]
          },
          "metadata": {},
          "execution_count": 21
        }
      ]
    },
    {
      "cell_type": "code",
      "source": [
        "notas.query('filmeId==2').nota.mean()"
      ],
      "metadata": {
        "colab": {
          "base_uri": "https://localhost:8080/"
        },
        "id": "GpT7oR0LjDFD",
        "outputId": "d22ae527-9606-405c-a21e-5be7822f8d4d"
      },
      "execution_count": null,
      "outputs": [
        {
          "output_type": "execute_result",
          "data": {
            "text/plain": [
              "3.4318181818181817"
            ]
          },
          "metadata": {},
          "execution_count": 22
        }
      ]
    },
    {
      "cell_type": "code",
      "source": [
        "notas.groupby('filmeId')"
      ],
      "metadata": {
        "colab": {
          "base_uri": "https://localhost:8080/"
        },
        "id": "q60XLc52tSf5",
        "outputId": "abca567c-3fc5-44d9-b30a-a0446cc186b5"
      },
      "execution_count": null,
      "outputs": [
        {
          "output_type": "execute_result",
          "data": {
            "text/plain": [
              "<pandas.core.groupby.generic.DataFrameGroupBy object at 0x7f56cb883ca0>"
            ]
          },
          "metadata": {},
          "execution_count": 23
        }
      ]
    },
    {
      "cell_type": "code",
      "source": [
        "media_por_filme = dict(notas.groupby('filmeId').nota.mean())\n",
        "media_por_filme"
      ],
      "metadata": {
        "id": "djiWTeOrtivP"
      },
      "execution_count": null,
      "outputs": []
    },
    {
      "cell_type": "code",
      "source": [
        "print('Id do filme com melhor média:')\n",
        "print(max(media_por_filme, key=media_por_filme.get))\n",
        "print('Id do filme com pior média:')\n",
        "print(min(media_por_filme, key=media_por_filme.get))"
      ],
      "metadata": {
        "colab": {
          "base_uri": "https://localhost:8080/"
        },
        "id": "UO4gnQWBhsmS",
        "outputId": "14075f8e-52d3-4561-ad39-d61203579624"
      },
      "execution_count": null,
      "outputs": [
        {
          "output_type": "stream",
          "name": "stdout",
          "text": [
            "Id do filme com melhor média:\n",
            "53\n",
            "Id do filme com pior média:\n",
            "3604\n"
          ]
        }
      ]
    },
    {
      "cell_type": "code",
      "source": [
        "melhor = media_por_filme.get(53) # A nota da melhor média.\n",
        "print(melhor)"
      ],
      "metadata": {
        "id": "Tguw4ysKiuuE",
        "colab": {
          "base_uri": "https://localhost:8080/"
        },
        "outputId": "3f8c8919-1060-4341-8a25-949b817cf59d"
      },
      "execution_count": null,
      "outputs": [
        {
          "output_type": "stream",
          "name": "stdout",
          "text": [
            "5.0\n"
          ]
        }
      ]
    },
    {
      "cell_type": "code",
      "source": [
        "pior = media_por_filme.get(3604) # A nota da pior média. \n",
        "print(pior)"
      ],
      "metadata": {
        "id": "-wcxdMUD7LF0",
        "colab": {
          "base_uri": "https://localhost:8080/"
        },
        "outputId": "45c7c0e6-38f5-4952-9a0d-4d4dffd9f0f4"
      },
      "execution_count": null,
      "outputs": [
        {
          "output_type": "stream",
          "name": "stdout",
          "text": [
            "0.5\n"
          ]
        }
      ]
    },
    {
      "cell_type": "code",
      "source": [
        "media_por_filme = (notas.groupby('filmeId').nota.mean())"
      ],
      "metadata": {
        "id": "RARpaxdBG0W2"
      },
      "execution_count": null,
      "outputs": []
    },
    {
      "cell_type": "code",
      "source": [
        "sns.distplot(media_por_filme, bins = 10) # Gráfico com as médias de notas dos filmes \n",
        "                                         "
      ],
      "metadata": {
        "id": "Y7fSgoDb6x0z",
        "colab": {
          "base_uri": "https://localhost:8080/"
        },
        "outputId": "92ab165f-d107-418c-827d-e774d24a070d"
      },
      "execution_count": null,
      "outputs": [
        {
          "output_type": "stream",
          "name": "stderr",
          "text": [
            "<ipython-input-29-0465589875aa>:1: UserWarning: \n",
            "\n",
            "`distplot` is a deprecated function and will be removed in seaborn v0.14.0.\n",
            "\n",
            "Please adapt your code to use either `displot` (a figure-level function with\n",
            "similar flexibility) or `histplot` (an axes-level function for histograms).\n",
            "\n",
            "For a guide to updating your code to use the new functions, please see\n",
            "https://gist.github.com/mwaskom/de44147ed2974457ad6372750bbe5751\n",
            "\n",
            "  sns.distplot(media_por_filme, bins = 10) # Gráfico com as médias de notas dos filmes\n"
          ]
        },
        {
          "output_type": "execute_result",
          "data": {
            "text/plain": [
              "<Axes: xlabel='nota', ylabel='Density'>"
            ]
          },
          "metadata": {},
          "execution_count": 29
        },
        {
          "output_type": "display_data",
          "data": {
            "text/plain": [
              "<Figure size 640x480 with 1 Axes>"
            ],
            "image/png": "[encoded data removed]"
          },
          "metadata": {}
        }
      ]
    },
    {
      "cell_type": "code",
      "source": [
        "plt.hist(media_por_filme)\n",
        "plt.title(\"média por filme\")"
      ],
      "metadata": {
        "id": "r-EJ_Zbr6xu7",
        "colab": {
          "base_uri": "https://localhost:8080/"
        },
        "outputId": "d1ad2e48-3821-4fcb-96cf-b3d6c25a1b8c"
      },
      "execution_count": null,
      "outputs": [
        {
          "output_type": "execute_result",
          "data": {
            "text/plain": [
              "Text(0.5, 1.0, 'média por filme')"
            ]
          },
          "metadata": {},
          "execution_count": 31
        },
        {
          "output_type": "display_data",
          "data": {
            "text/plain": [
              "<Figure size 640x480 with 1 Axes>"
            ],
            "image/png": "[encoded data removed]"
          },
          "metadata": {}
        }
      ]
    },
    {
      "cell_type": "code",
      "source": [],
      "metadata": {
        "id": "nUumrxvJ6xsO"
      },
      "execution_count": null,
      "outputs": []
    },
    {
      "cell_type": "code",
      "source": [],
      "metadata": {
        "id": "PVGyw63m6xmf"
      },
      "execution_count": null,
      "outputs": []
    },
    {
      "cell_type": "code",
      "source": [],
      "metadata": {
        "id": "-zN4dR--6xft"
      },
      "execution_count": null,
      "outputs": []
    },
    {
      "cell_type": "code",
      "source": [],
      "metadata": {
        "id": "Vbv61Kh0jxI8"
      },
      "execution_count": null,
      "outputs": []
    }
  ],
  "metadata": {
    "colab": {
      "provenance": [],
      "collapsed_sections": [
        "gy9PgEGCqbTC",
        "a3vezCITqiMR",
        "b59Rb1oABlTy",
        "i1J8Fg54tHor"
      ],
      "authorship_tag": "ABX9TyONr07J2DxG7BP1U9w9o9Me",
      "include_colab_link": true
    },
    "kernelspec": {
      "display_name": "Python 3",
      "name": "python3"
    },
    "language_info": {
      "name": "python"
    }
  },
  "nbformat": 4,
  "nbformat_minor": 0
}