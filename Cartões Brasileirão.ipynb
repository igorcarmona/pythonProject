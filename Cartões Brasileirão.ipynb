{
 "cells": [
  {
   "cell_type": "markdown",
   "id": "bee0a97c",
   "metadata": {},
   "source": [
    "# Cartões do Brasileirão"
   ]
  },
  {
   "cell_type": "markdown",
   "id": "8b29113b",
   "metadata": {},
   "source": [
    "## Analisando Banco de dados"
   ]
  },
  {
   "cell_type": "code",
   "execution_count": 1,
   "id": "837d6387",
   "metadata": {},
   "outputs": [],
   "source": [
    "import pandas as pd"
   ]
  },
  {
   "cell_type": "code",
   "execution_count": 2,
   "id": "59e2d72d",
   "metadata": {},
   "outputs": [],
   "source": [
    "dados = pd.read_csv('Arquivos/campeonato-brasileiro-cartoes.csv')"
   ]
  },
  {
   "cell_type": "code",
   "execution_count": 3,
   "id": "a2d391be",
   "metadata": {},
   "outputs": [],
   "source": [
    "dados.rename(columns = {'rodata':'rodada'}, inplace = True)"
   ]
  },
  {
   "cell_type": "code",
   "execution_count": 4,
   "id": "2f1f3eba",
   "metadata": {},
   "outputs": [
    {
     "data": {
      "text/html": [
       "<div>\n",
       "<style scoped>\n",
       "    .dataframe tbody tr th:only-of-type {\n",
       "        vertical-align: middle;\n",
       "    }\n",
       "\n",
       "    .dataframe tbody tr th {\n",
       "        vertical-align: top;\n",
       "    }\n",
       "\n",
       "    .dataframe thead th {\n",
       "        text-align: right;\n",
       "    }\n",
       "</style>\n",
       "<table border=\"1\" class=\"dataframe\">\n",
       "  <thead>\n",
       "    <tr style=\"text-align: right;\">\n",
       "      <th></th>\n",
       "      <th>partida_id</th>\n",
       "      <th>rodada</th>\n",
       "      <th>clube</th>\n",
       "      <th>cartao</th>\n",
       "      <th>atleta</th>\n",
       "      <th>num_camisa</th>\n",
       "      <th>posicao</th>\n",
       "      <th>minuto</th>\n",
       "    </tr>\n",
       "  </thead>\n",
       "  <tbody>\n",
       "    <tr>\n",
       "      <th>0</th>\n",
       "      <td>4607</td>\n",
       "      <td>1</td>\n",
       "      <td>Figueirense</td>\n",
       "      <td>Amarelo</td>\n",
       "      <td>Paulo Roberto da Silva</td>\n",
       "      <td>28.0</td>\n",
       "      <td>NaN</td>\n",
       "      <td>66</td>\n",
       "    </tr>\n",
       "    <tr>\n",
       "      <th>1</th>\n",
       "      <td>4608</td>\n",
       "      <td>1</td>\n",
       "      <td>Internacional</td>\n",
       "      <td>Amarelo</td>\n",
       "      <td>Andrés D'Alessandro</td>\n",
       "      <td>10.0</td>\n",
       "      <td>Meio-campo</td>\n",
       "      <td>72</td>\n",
       "    </tr>\n",
       "    <tr>\n",
       "      <th>2</th>\n",
       "      <td>4608</td>\n",
       "      <td>1</td>\n",
       "      <td>Vitoria</td>\n",
       "      <td>Amarelo</td>\n",
       "      <td>Marcelo Machado dos Santos</td>\n",
       "      <td>29.0</td>\n",
       "      <td>NaN</td>\n",
       "      <td>86</td>\n",
       "    </tr>\n",
       "    <tr>\n",
       "      <th>3</th>\n",
       "      <td>4608</td>\n",
       "      <td>1</td>\n",
       "      <td>Vitoria</td>\n",
       "      <td>Amarelo</td>\n",
       "      <td>Mansur</td>\n",
       "      <td>NaN</td>\n",
       "      <td>Zagueiro</td>\n",
       "      <td>10</td>\n",
       "    </tr>\n",
       "    <tr>\n",
       "      <th>4</th>\n",
       "      <td>4607</td>\n",
       "      <td>1</td>\n",
       "      <td>Figueirense</td>\n",
       "      <td>Amarelo</td>\n",
       "      <td>Thiago Heleno</td>\n",
       "      <td>4.0</td>\n",
       "      <td>Zagueiro</td>\n",
       "      <td>44</td>\n",
       "    </tr>\n",
       "    <tr>\n",
       "      <th>5</th>\n",
       "      <td>4608</td>\n",
       "      <td>1</td>\n",
       "      <td>Internacional</td>\n",
       "      <td>Amarelo</td>\n",
       "      <td>Juan Silveira dos Santos</td>\n",
       "      <td>4.0</td>\n",
       "      <td>Zagueiro</td>\n",
       "      <td>20</td>\n",
       "    </tr>\n",
       "    <tr>\n",
       "      <th>6</th>\n",
       "      <td>4608</td>\n",
       "      <td>1</td>\n",
       "      <td>Vitoria</td>\n",
       "      <td>Amarelo</td>\n",
       "      <td>Vinícius Santos Silva</td>\n",
       "      <td>NaN</td>\n",
       "      <td>NaN</td>\n",
       "      <td>82</td>\n",
       "    </tr>\n",
       "    <tr>\n",
       "      <th>7</th>\n",
       "      <td>4609</td>\n",
       "      <td>1</td>\n",
       "      <td>Coritiba</td>\n",
       "      <td>Amarelo</td>\n",
       "      <td>Carlos Emiliano Pereira</td>\n",
       "      <td>30.0</td>\n",
       "      <td>Zagueiro</td>\n",
       "      <td>76</td>\n",
       "    </tr>\n",
       "    <tr>\n",
       "      <th>8</th>\n",
       "      <td>4615</td>\n",
       "      <td>1</td>\n",
       "      <td>Sport</td>\n",
       "      <td>Amarelo</td>\n",
       "      <td>Luiz Antonio Linhares Garcia</td>\n",
       "      <td>13.0</td>\n",
       "      <td>Zagueiro</td>\n",
       "      <td>55</td>\n",
       "    </tr>\n",
       "    <tr>\n",
       "      <th>9</th>\n",
       "      <td>4616</td>\n",
       "      <td>1</td>\n",
       "      <td>Criciuma</td>\n",
       "      <td>Amarelo</td>\n",
       "      <td>Silvinho</td>\n",
       "      <td>NaN</td>\n",
       "      <td>Atacante</td>\n",
       "      <td>72</td>\n",
       "    </tr>\n",
       "  </tbody>\n",
       "</table>\n",
       "</div>"
      ],
      "text/plain": [
       "   partida_id  rodada          clube   cartao                        atleta  \\\n",
       "0        4607       1    Figueirense  Amarelo        Paulo Roberto da Silva   \n",
       "1        4608       1  Internacional  Amarelo           Andrés D'Alessandro   \n",
       "2        4608       1        Vitoria  Amarelo    Marcelo Machado dos Santos   \n",
       "3        4608       1        Vitoria  Amarelo                        Mansur   \n",
       "4        4607       1    Figueirense  Amarelo                 Thiago Heleno   \n",
       "5        4608       1  Internacional  Amarelo      Juan Silveira dos Santos   \n",
       "6        4608       1        Vitoria  Amarelo         Vinícius Santos Silva   \n",
       "7        4609       1       Coritiba  Amarelo       Carlos Emiliano Pereira   \n",
       "8        4615       1          Sport  Amarelo  Luiz Antonio Linhares Garcia   \n",
       "9        4616       1       Criciuma  Amarelo                      Silvinho   \n",
       "\n",
       "   num_camisa     posicao minuto  \n",
       "0        28.0         NaN     66  \n",
       "1        10.0  Meio-campo     72  \n",
       "2        29.0         NaN     86  \n",
       "3         NaN    Zagueiro     10  \n",
       "4         4.0    Zagueiro     44  \n",
       "5         4.0    Zagueiro     20  \n",
       "6         NaN         NaN     82  \n",
       "7        30.0    Zagueiro     76  \n",
       "8        13.0    Zagueiro     55  \n",
       "9         NaN    Atacante     72  "
      ]
     },
     "execution_count": 4,
     "metadata": {},
     "output_type": "execute_result"
    }
   ],
   "source": [
    "dados.head(10)"
   ]
  },
  {
   "cell_type": "code",
   "execution_count": 5,
   "id": "656ef3d3",
   "metadata": {},
   "outputs": [
    {
     "name": "stdout",
     "output_type": "stream",
     "text": [
      "15889 amarelos\n",
      "850 vermelhos\n",
      "16739 cartões no total\n"
     ]
    }
   ],
   "source": [
    "print(dados.cartao.value_counts()['Amarelo'], 'amarelos') # Vermelhos e Amarelos\n",
    "print(dados.cartao.value_counts()['Vermelho'], 'vermelhos') \n",
    "print(len(dados.cartao), 'cartões no total')"
   ]
  },
  {
   "cell_type": "code",
   "execution_count": 6,
   "id": "59693f4f",
   "metadata": {},
   "outputs": [
    {
     "data": {
      "text/plain": [
       "array([nan, 'Meio-campo', 'Zagueiro', 'Atacante', 'Goleiro', 'Zagueira'],\n",
       "      dtype=object)"
      ]
     },
     "execution_count": 6,
     "metadata": {},
     "output_type": "execute_result"
    }
   ],
   "source": [
    "dados.posicao.unique()"
   ]
  },
  {
   "cell_type": "code",
   "execution_count": 7,
   "id": "1b757b34",
   "metadata": {},
   "outputs": [],
   "source": [
    "dados.posicao.fillna('Reserva', inplace = True) # Renomeando o nan para Reserva"
   ]
  },
  {
   "cell_type": "code",
   "execution_count": 8,
   "id": "7de611c7",
   "metadata": {},
   "outputs": [
    {
     "data": {
      "text/html": [
       "<div>\n",
       "<style scoped>\n",
       "    .dataframe tbody tr th:only-of-type {\n",
       "        vertical-align: middle;\n",
       "    }\n",
       "\n",
       "    .dataframe tbody tr th {\n",
       "        vertical-align: top;\n",
       "    }\n",
       "\n",
       "    .dataframe thead th {\n",
       "        text-align: right;\n",
       "    }\n",
       "</style>\n",
       "<table border=\"1\" class=\"dataframe\">\n",
       "  <thead>\n",
       "    <tr style=\"text-align: right;\">\n",
       "      <th></th>\n",
       "      <th>partida_id</th>\n",
       "      <th>rodada</th>\n",
       "      <th>clube</th>\n",
       "      <th>cartao</th>\n",
       "      <th>atleta</th>\n",
       "      <th>num_camisa</th>\n",
       "      <th>posicao</th>\n",
       "      <th>minuto</th>\n",
       "    </tr>\n",
       "  </thead>\n",
       "  <tbody>\n",
       "    <tr>\n",
       "      <th>862</th>\n",
       "      <td>4799</td>\n",
       "      <td>19</td>\n",
       "      <td>Chapecoense</td>\n",
       "      <td>Amarelo</td>\n",
       "      <td>Douglas Grolli</td>\n",
       "      <td>NaN</td>\n",
       "      <td>Zagueira</td>\n",
       "      <td>64</td>\n",
       "    </tr>\n",
       "    <tr>\n",
       "      <th>1384</th>\n",
       "      <td>4904</td>\n",
       "      <td>30</td>\n",
       "      <td>Chapecoense</td>\n",
       "      <td>Amarelo</td>\n",
       "      <td>Douglas Grolli</td>\n",
       "      <td>NaN</td>\n",
       "      <td>Zagueira</td>\n",
       "      <td>36</td>\n",
       "    </tr>\n",
       "    <tr>\n",
       "      <th>1626</th>\n",
       "      <td>4945</td>\n",
       "      <td>35</td>\n",
       "      <td>Chapecoense</td>\n",
       "      <td>Amarelo</td>\n",
       "      <td>Douglas Grolli</td>\n",
       "      <td>NaN</td>\n",
       "      <td>Zagueira</td>\n",
       "      <td>19</td>\n",
       "    </tr>\n",
       "    <tr>\n",
       "      <th>3750</th>\n",
       "      <td>5357</td>\n",
       "      <td>38</td>\n",
       "      <td>Cruzeiro</td>\n",
       "      <td>Amarelo</td>\n",
       "      <td>Douglas Grolli</td>\n",
       "      <td>13.0</td>\n",
       "      <td>Zagueira</td>\n",
       "      <td>44</td>\n",
       "    </tr>\n",
       "    <tr>\n",
       "      <th>3807</th>\n",
       "      <td>5373</td>\n",
       "      <td>1</td>\n",
       "      <td>Ponte Preta</td>\n",
       "      <td>Amarelo</td>\n",
       "      <td>Douglas Grolli</td>\n",
       "      <td>3.0</td>\n",
       "      <td>Zagueira</td>\n",
       "      <td>66</td>\n",
       "    </tr>\n",
       "  </tbody>\n",
       "</table>\n",
       "</div>"
      ],
      "text/plain": [
       "      partida_id  rodada        clube   cartao          atleta  num_camisa  \\\n",
       "862         4799      19  Chapecoense  Amarelo  Douglas Grolli         NaN   \n",
       "1384        4904      30  Chapecoense  Amarelo  Douglas Grolli         NaN   \n",
       "1626        4945      35  Chapecoense  Amarelo  Douglas Grolli         NaN   \n",
       "3750        5357      38     Cruzeiro  Amarelo  Douglas Grolli        13.0   \n",
       "3807        5373       1  Ponte Preta  Amarelo  Douglas Grolli         3.0   \n",
       "\n",
       "       posicao minuto  \n",
       "862   Zagueira     64  \n",
       "1384  Zagueira     36  \n",
       "1626  Zagueira     19  \n",
       "3750  Zagueira     44  \n",
       "3807  Zagueira     66  "
      ]
     },
     "execution_count": 8,
     "metadata": {},
     "output_type": "execute_result"
    }
   ],
   "source": [
    "zagueira = dados['posicao'] == 'Zagueira' # Identificando o erro de digitação zagueira\n",
    "dados[zagueira].head()"
   ]
  },
  {
   "cell_type": "code",
   "execution_count": 9,
   "id": "65cb95ff",
   "metadata": {},
   "outputs": [],
   "source": [
    "dados['posicao'] = dados['posicao'].replace({'Zagueira' : 'Zagueiro'}) # Tratando de zagueira para zagueiro"
   ]
  },
  {
   "cell_type": "code",
   "execution_count": 10,
   "id": "64956260",
   "metadata": {},
   "outputs": [
    {
     "data": {
      "text/plain": [
       "array(['Reserva', 'Meio-campo', 'Zagueiro', 'Atacante', 'Goleiro'],\n",
       "      dtype=object)"
      ]
     },
     "execution_count": 10,
     "metadata": {},
     "output_type": "execute_result"
    }
   ],
   "source": [
    "dados.posicao.unique() # Conferindo se o erro foi consertado"
   ]
  },
  {
   "cell_type": "markdown",
   "id": "8e1bd569",
   "metadata": {},
   "source": [
    "## Analisando jogadores"
   ]
  },
  {
   "cell_type": "code",
   "execution_count": 11,
   "id": "fb70d37e",
   "metadata": {},
   "outputs": [
    {
     "data": {
      "text/plain": [
       "Thiago Heleno               67\n",
       "Samuel Xavier               62\n",
       "Fred                        61\n",
       "Fagner                      60\n",
       "Lucas Rafael Araújo Lima    60\n",
       "                            ..\n",
       "Rafael Grampola              1\n",
       "Stéfano Yuri                 1\n",
       "Juninho Quixadá              1\n",
       "Nádson da Silva Almeida      1\n",
       "Lucas Ramos                  1\n",
       "Name: atleta, Length: 1933, dtype: int64"
      ]
     },
     "execution_count": 11,
     "metadata": {},
     "output_type": "execute_result"
    }
   ],
   "source": [
    "dados.atleta.value_counts() # Quantos cartões cada jogador levou"
   ]
  },
  {
   "cell_type": "code",
   "execution_count": 12,
   "id": "188dea26",
   "metadata": {},
   "outputs": [],
   "source": [
    "vermelho = dados.query('cartao == \"Vermelho\"') # Separando entre vermelho e amarelo\n",
    "amarelo = dados.query('cartao == \"Amarelo\"')"
   ]
  },
  {
   "cell_type": "code",
   "execution_count": 13,
   "id": "38f2a8d2",
   "metadata": {},
   "outputs": [
    {
     "data": {
      "text/plain": [
       "Thiago Heleno                   61\n",
       "Wellington Aparecido Martins    59\n",
       "Lucas Rafael Araújo Lima        58\n",
       "Fred                            58\n",
       "Samuel Xavier                   57\n",
       "Name: atleta, dtype: int64"
      ]
     },
     "execution_count": 13,
     "metadata": {},
     "output_type": "execute_result"
    }
   ],
   "source": [
    "amarelo['atleta'].value_counts().head() # Números de cartões amarelos levados por cada jogador"
   ]
  },
  {
   "cell_type": "code",
   "execution_count": 14,
   "id": "38fdb82e",
   "metadata": {},
   "outputs": [
    {
     "data": {
      "text/plain": [
       "David Braz                  7\n",
       "Thiago Heleno               6\n",
       "Edílson Mendes Guimarães    5\n",
       "Samuel Xavier               5\n",
       "José Rafael Vivian          5\n",
       "Name: atleta, dtype: int64"
      ]
     },
     "execution_count": 14,
     "metadata": {},
     "output_type": "execute_result"
    }
   ],
   "source": [
    "vermelho['atleta'].value_counts().head() # Números de cartões vermelhos levados por cada jogador"
   ]
  },
  {
   "cell_type": "code",
   "execution_count": 15,
   "id": "53506f91",
   "metadata": {},
   "outputs": [],
   "source": [
    "atletas = list(dados.atleta.unique())\n",
    "d = {'Cartão amarelo' : amarelo['atleta'].value_counts(), # Criando DataFrame de cartões amarelos e vermelhos\n",
    "     'Cartão vermelho' : vermelho['atleta'].value_counts(),\n",
    "    }"
   ]
  },
  {
   "cell_type": "code",
   "execution_count": 16,
   "id": "44593ed7",
   "metadata": {},
   "outputs": [
    {
     "data": {
      "text/html": [
       "<div>\n",
       "<style scoped>\n",
       "    .dataframe tbody tr th:only-of-type {\n",
       "        vertical-align: middle;\n",
       "    }\n",
       "\n",
       "    .dataframe tbody tr th {\n",
       "        vertical-align: top;\n",
       "    }\n",
       "\n",
       "    .dataframe thead th {\n",
       "        text-align: right;\n",
       "    }\n",
       "</style>\n",
       "<table border=\"1\" class=\"dataframe\">\n",
       "  <thead>\n",
       "    <tr style=\"text-align: right;\">\n",
       "      <th></th>\n",
       "      <th>Cartão amarelo</th>\n",
       "      <th>Cartão vermelho</th>\n",
       "    </tr>\n",
       "  </thead>\n",
       "  <tbody>\n",
       "    <tr>\n",
       "      <th>Paulo Roberto da Silva</th>\n",
       "      <td>16.0</td>\n",
       "      <td>0.0</td>\n",
       "    </tr>\n",
       "    <tr>\n",
       "      <th>Andrés D'Alessandro</th>\n",
       "      <td>28.0</td>\n",
       "      <td>1.0</td>\n",
       "    </tr>\n",
       "    <tr>\n",
       "      <th>Marcelo Machado dos Santos</th>\n",
       "      <td>9.0</td>\n",
       "      <td>1.0</td>\n",
       "    </tr>\n",
       "    <tr>\n",
       "      <th>Mansur</th>\n",
       "      <td>5.0</td>\n",
       "      <td>1.0</td>\n",
       "    </tr>\n",
       "    <tr>\n",
       "      <th>Thiago Heleno</th>\n",
       "      <td>61.0</td>\n",
       "      <td>6.0</td>\n",
       "    </tr>\n",
       "    <tr>\n",
       "      <th>...</th>\n",
       "      <td>...</td>\n",
       "      <td>...</td>\n",
       "    </tr>\n",
       "    <tr>\n",
       "      <th>Pablo Dyego</th>\n",
       "      <td>1.0</td>\n",
       "      <td>0.0</td>\n",
       "    </tr>\n",
       "    <tr>\n",
       "      <th>Júnior Santos</th>\n",
       "      <td>1.0</td>\n",
       "      <td>0.0</td>\n",
       "    </tr>\n",
       "    <tr>\n",
       "      <th>Endrick</th>\n",
       "      <td>1.0</td>\n",
       "      <td>0.0</td>\n",
       "    </tr>\n",
       "    <tr>\n",
       "      <th>Lucas Pereira Ramires Constante</th>\n",
       "      <td>1.0</td>\n",
       "      <td>0.0</td>\n",
       "    </tr>\n",
       "    <tr>\n",
       "      <th>Lucas Ramos</th>\n",
       "      <td>1.0</td>\n",
       "      <td>0.0</td>\n",
       "    </tr>\n",
       "  </tbody>\n",
       "</table>\n",
       "<p>1934 rows × 2 columns</p>\n",
       "</div>"
      ],
      "text/plain": [
       "                                 Cartão amarelo  Cartão vermelho\n",
       "Paulo Roberto da Silva                     16.0              0.0\n",
       "Andrés D'Alessandro                        28.0              1.0\n",
       "Marcelo Machado dos Santos                  9.0              1.0\n",
       "Mansur                                      5.0              1.0\n",
       "Thiago Heleno                              61.0              6.0\n",
       "...                                         ...              ...\n",
       "Pablo Dyego                                 1.0              0.0\n",
       "Júnior Santos                               1.0              0.0\n",
       "Endrick                                     1.0              0.0\n",
       "Lucas Pereira Ramires Constante             1.0              0.0\n",
       "Lucas Ramos                                 1.0              0.0\n",
       "\n",
       "[1934 rows x 2 columns]"
      ]
     },
     "execution_count": 16,
     "metadata": {},
     "output_type": "execute_result"
    }
   ],
   "source": [
    "df = pd.DataFrame(data = d, index = atletas)\n",
    "df.fillna(0)"
   ]
  },
  {
   "cell_type": "code",
   "execution_count": 17,
   "id": "e2b8c377",
   "metadata": {},
   "outputs": [
    {
     "data": {
      "text/plain": [
       "Cartão amarelo     61.0\n",
       "Cartão vermelho     6.0\n",
       "Name: Thiago Heleno, dtype: float64"
      ]
     },
     "execution_count": 17,
     "metadata": {},
     "output_type": "execute_result"
    }
   ],
   "source": [
    "df.loc[df['Cartão amarelo'].idxmax()]"
   ]
  },
  {
   "cell_type": "code",
   "execution_count": 18,
   "id": "5b66b9eb",
   "metadata": {},
   "outputs": [],
   "source": [
    "flamengo = dados.query('clube == \"Flamengo\"')"
   ]
  },
  {
   "cell_type": "code",
   "execution_count": 20,
   "id": "0d39d759",
   "metadata": {
    "scrolled": true
   },
   "outputs": [
    {
     "data": {
      "text/plain": [
       "Amarelo     724\n",
       "Vermelho     40\n",
       "Name: cartao, dtype: int64"
      ]
     },
     "execution_count": 20,
     "metadata": {},
     "output_type": "execute_result"
    }
   ],
   "source": [
    "flamengo['cartao'].value_counts() # Número de cartões levados por jogadores do Flamengo"
   ]
  },
  {
   "cell_type": "code",
   "execution_count": null,
   "id": "b4c50276",
   "metadata": {},
   "outputs": [],
   "source": []
  }
 ],
 "metadata": {
  "kernelspec": {
   "display_name": "Python 3 (ipykernel)",
   "language": "python",
   "name": "python3"
  },
  "language_info": {
   "codemirror_mode": {
    "name": "ipython",
    "version": 3
   },
   "file_extension": ".py",
   "mimetype": "text/x-python",
   "name": "python",
   "nbconvert_exporter": "python",
   "pygments_lexer": "ipython3",
   "version": "3.10.9"
  }
 },
 "nbformat": 4,
 "nbformat_minor": 5
}
